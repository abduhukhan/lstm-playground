{
 "cells": [
  {
   "cell_type": "code",
   "execution_count": 1,
   "id": "8d7d18bc-4919-41bd-b893-e4bca3f88ca4",
   "metadata": {
    "execution": {
     "iopub.execute_input": "2025-09-15T06:56:36.294627Z",
     "iopub.status.busy": "2025-09-15T06:56:36.294028Z",
     "iopub.status.idle": "2025-09-15T06:56:44.275027Z",
     "shell.execute_reply": "2025-09-15T06:56:44.273585Z",
     "shell.execute_reply.started": "2025-09-15T06:56:36.294579Z"
    }
   },
   "outputs": [
    {
     "name": "stderr",
     "output_type": "stream",
     "text": [
      "2025-09-15 06:56:36.929531: I tensorflow/core/util/util.cc:169] oneDNN custom operations are on. You may see slightly different numerical results due to floating-point round-off errors from different computation orders. To turn them off, set the environment variable `TF_ENABLE_ONEDNN_OPTS=0`.\n",
      "2025-09-15 06:56:37.066116: W tensorflow/stream_executor/platform/default/dso_loader.cc:64] Could not load dynamic library 'libcudart.so.11.0'; dlerror: libcudart.so.11.0: cannot open shared object file: No such file or directory\n",
      "2025-09-15 06:56:37.066185: I tensorflow/stream_executor/cuda/cudart_stub.cc:29] Ignore above cudart dlerror if you do not have a GPU set up on your machine.\n",
      "2025-09-15 06:56:40.767453: W tensorflow/stream_executor/platform/default/dso_loader.cc:64] Could not load dynamic library 'libcuda.so.1'; dlerror: libcuda.so.1: cannot open shared object file: No such file or directory\n",
      "2025-09-15 06:56:40.767497: W tensorflow/stream_executor/cuda/cuda_driver.cc:269] failed call to cuInit: UNKNOWN ERROR (303)\n",
      "2025-09-15 06:56:40.767548: I tensorflow/stream_executor/cuda/cuda_diagnostics.cc:156] kernel driver does not appear to be running on this host (0b5dbe4e988d): /proc/driver/nvidia/version does not exist\n",
      "2025-09-15 06:56:40.767902: I tensorflow/core/platform/cpu_feature_guard.cc:193] This TensorFlow binary is optimized with oneAPI Deep Neural Network Library (oneDNN) to use the following CPU instructions in performance-critical operations:  AVX2 AVX512F AVX512_VNNI FMA\n",
      "To enable them in other operations, rebuild TensorFlow with the appropriate compiler flags.\n"
     ]
    },
    {
     "name": "stdout",
     "output_type": "stream",
     "text": [
      "Epoch 1/3\n",
      "25/25 [==============================] - 2s 29ms/step - loss: 0.6940 - accuracy: 0.4812 - val_loss: 0.6936 - val_accuracy: 0.5100\n",
      "Epoch 2/3\n",
      "25/25 [==============================] - 0s 12ms/step - loss: 0.6825 - accuracy: 0.6687 - val_loss: 0.7033 - val_accuracy: 0.4750\n",
      "Epoch 3/3\n",
      "25/25 [==============================] - 0s 12ms/step - loss: 0.6218 - accuracy: 0.6725 - val_loss: 0.7408 - val_accuracy: 0.5100\n",
      "32/32 [==============================] - 0s 5ms/step - loss: 0.5750 - accuracy: 0.6950\n",
      "Final accuracy: 0.69\n"
     ]
    }
   ],
   "source": [
    "import numpy as np\n",
    "import tensorflow as tf\n",
    "from tensorflow.keras.models import Sequential\n",
    "from tensorflow.keras.layers import Embedding, LSTM, Dense\n",
    "\n",
    "# Fake data: 1000 samples, each sequence length = 10, vocab size = 500\n",
    "X = np.random.randint(500, size=(1000, 10))\n",
    "y = np.random.randint(2, size=(1000, 1))\n",
    "\n",
    "# Model definition\n",
    "model = Sequential()\n",
    "model.add(Embedding(input_dim=500, output_dim=64, input_length=10))\n",
    "model.add(LSTM(64))\n",
    "model.add(Dense(1, activation='sigmoid'))\n",
    "\n",
    "# Compile\n",
    "model.compile(loss='binary_crossentropy',\n",
    "              optimizer='adam',\n",
    "              metrics=['accuracy'])\n",
    "\n",
    "# Train\n",
    "history = model.fit(X, y, epochs=3, batch_size=32, validation_split=0.2)\n",
    "\n",
    "# Evaluate\n",
    "loss, acc = model.evaluate(X, y)\n",
    "print(f\"Final accuracy: {acc:.2f}\")\n"
   ]
  },
  {
   "cell_type": "code",
   "execution_count": null,
   "id": "1bef8fa6-b458-4401-88dd-305827ec7994",
   "metadata": {},
   "outputs": [],
   "source": []
  }
 ],
 "metadata": {
  "kernelspec": {
   "display_name": "Python 3 (ipykernel)",
   "language": "python",
   "name": "python3"
  },
  "language_info": {
   "codemirror_mode": {
    "name": "ipython",
    "version": 3
   },
   "file_extension": ".py",
   "mimetype": "text/x-python",
   "name": "python",
   "nbconvert_exporter": "python",
   "pygments_lexer": "ipython3",
   "version": "3.10.11"
  }
 },
 "nbformat": 4,
 "nbformat_minor": 5
}
